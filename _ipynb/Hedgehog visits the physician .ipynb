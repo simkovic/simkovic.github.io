{
 "cells": [
  {
   "cell_type": "markdown",
   "metadata": {},
   "source": [
    "In August, Open Science collaboration published a [summary](http://www.sciencemag.org/content/349/6251/aac4716) of its replication project. From the abstract:\n",
    "\n",
    "> Aarts et al. describe the replication of 100 experiments reported in papers published in 2008 in three high-ranking psychology journals. Assessing whether the replication and the original experiment yielded the same result according to several criteria, they find that about one-third to one-half of the original findings were also observed in the replication study. \n",
    "\n",
    "They got one-third success when they used significance (reject $H_0$) as a criterium for replication success and around one-half when meta-analytic methods were used to asses the replication success. All replication studies had good power and one would expect around 95% replication success. So hypothesis testing does not work in psychology. What do we do now?\n",
    "\n",
    "One popular excuse for doing nothing is the [following provided by Lisa Feldman Barrett](http://www.nytimes.com/2015/09/01/opinion/psychology-is-not-in-crisis.html?_r=0):\n",
    "\n",
    "> Suppose you have two well-designed, carefully run studies, A and B, that investigate the same phenomenon. They perform what appear to be identical experiments, and yet they reach opposite conclusions. Study A produces the predicted phenomenon, whereas Study B does not. We have a failure to replicate. \n",
    "Does this mean that the phenomenon in question is necessarily illusory?  Absolutely not. If the studies were well designed and executed, it is more likely that the phenomenon from Study A is true only under certain conditions. The scientist’s job now is to figure out what those conditions are, in order to form new and better hypotheses to test.\n",
    "\n",
    "This explanation reminds of a joke about a hedgehog:\n",
    "\n",
    "> Hedgehog goes to physician and complains that he and his wife want a child but his wife is not getting pregnant.\n",
    "\n",
    ">Physician: \"Do you and your wife eat carrots?\" \n",
    "\n",
    ">Hedgehog: \"No we don't.\" \n",
    "\n",
    ">Physician: \"But you have to. Without eating carrots you can't conceive a child.\"\n",
    "\n",
    ">Hedgehog leaves, but returns a week later.\n",
    "\n",
    ">Hedgehog: \"Doctor, it doesn't work. My wife is still not pregnant.\"\n",
    "\n",
    ">Physician: \"Do you and your wife drink mint tea?\" \n",
    "\n",
    ">Hedgehog: \"No we don't.\" \n",
    "\n",
    ">Physician: \"But you have to. Without drinking mint tea you can't conceive a child.\"\n",
    "\n",
    ">Hedgehog leaves, but once again, returns a week later.\n",
    "\n",
    ">Hedgehog: \"Doctor, it doesn't work. My wife is still not pregnant.\"\n",
    "\n",
    ">Physician: \"Are you and your wife having sex?\" \n",
    "\n",
    ">Hedgehog: \"No we don't.\" \n",
    "\n",
    ">Physician: \"But you have to. Without having sex with your wife you can't conceive a child.\"\n",
    "\n",
    "If we accept Feldman Barrett's view of replication we are giving researchers a license to make up spurious claims without having to care about providing solid evidence. This is a situation similar to that of the physician in the above joke - physician is allowed to make up explanations without providing solid evidence. Hedgehog - just like the replicating researchers is asked to test the claims and if he fails he is just asked to try something else until he succeeds. The set of propositions about getting pregnant is not infinite, so physician will, at some point, hit upon a solution to hedgehog's problem. To suppress such guessing behavior, the hedgehog should ask the physician, what are all the necessary conditions that need to be satisfied in order to conceive a child. This is what the Open science collaboration does before each replication. They contact the authors of the original study and ask them what are potential moderators that would alter the results. The researchers then attempt to control the mentioned moderators in the replication.\n",
    "\n",
    "The joke illustrates another aspect. The physician's suggestions are surprising and counter-intuitive, because carrots and mint tea are easily obtainable, yet no one would assume that they affect the probability of conception. Similar, most of the studies in the high-profile psychological journals (and those included in the replication attempt) present surprising and counter-intuitive findings. After an iterative addition of moderators, the findings become less robust, more context-dependent and even trivial. In the end, the physician hits upon a suggestion that solves hedgehog's problem. Unfortunately, one doesn't necessarily need to ask physician to get this kind of suggestion. \n",
    "\n",
    "The psychological phenomena may be context dependent and fragile, but in that case one should be on against making claims about robust and context-independent effects and against using experiments designed to test robust and context-independent effects. Unfortunately, many of the studies that fail to replicate are conceived to test hypotheses that posit robust and context-independent effects."
   ]
  }
 ],
 "metadata": {
  "kernelspec": {
   "display_name": "Python 3",
   "language": "python",
   "name": "python3"
  },
  "language_info": {
   "codemirror_mode": {
    "name": "ipython",
    "version": 3
   },
   "file_extension": ".py",
   "mimetype": "text/x-python",
   "name": "python",
   "nbconvert_exporter": "python",
   "pygments_lexer": "ipython3",
   "version": "3.7.3"
  }
 },
 "nbformat": 4,
 "nbformat_minor": 1
}
