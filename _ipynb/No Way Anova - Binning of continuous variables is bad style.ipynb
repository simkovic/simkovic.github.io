{
 "metadata": {
  "name": "",
  "signature": "sha256:d648e45577deff3aaeb4282a805e801f785a116ce6869e08382699c743bce5ff"
 },
 "nbformat": 3,
 "nbformat_minor": 0,
 "worksheets": [
  {
   "cells": [
    {
     "cell_type": "markdown",
     "metadata": {},
     "source": [
      "<img src=\"http://i2.wp.com/www.casualoptimist.com/wp-content/uploads/2014/10/9781846145506.jpg\" style=\"width:300px\"></img>\n",
      "\n",
      "Steven Pinker has a new [book](http://www.amazon.com/Steven-Pinker-Sense-Style-Paperback/dp/B00SCT7DVU/ref=sr_1_2?ie=UTF8&qid=1423417779&sr=8-2&keywords=pinker+style) out. It's a style manual - a book about what authors can do to improve the clarity of their prose. Actually, the book would be more accurately described as guide to style manuals. Unlike, other style manuals Pinker takes stock of his knowledge of cognitive science and linguistics and explains the logic behind various rules that pertain to language's use. Once this logic is explained the reader can apply it to cases that haven't been covered by the book. The book is great and I recommend it to every scientist. \n",
      "\n",
      "Anyway, I want to discuss one of the examples that Pinker uses to illustrate bad style. As scientist, Pinker takes many examples from academic writing. My favorite is:\n",
      "\n",
      "> Participants read assertions whose veracity was either affirmed or denied by the subsequent presentation of an assessment word.\n",
      "\n",
      "The so-called nominalizations (assertions, veracity, presentation, assessment) make this sentence difficult to comprehend. Once we remove them we get:\n",
      "\n",
      ">We presented participants with a sentence, followed by the word TRUE or FALSE.\n",
      "\n",
      "In addition to nominalizations Pinker warns against abstract nouns such as levels, strategies, perspective or prospects. Just like with nominalizations, omitting the abstract nouns makes comprehension easier. Here is an example from Pinker. Abstract nouns are underlined.\n",
      "\n",
      "> The researchers found that groups that are typically associated with low alcoholism <u>levels</u> actually have moderate amounts of alcohol <u>intake</u> yet still have low <u>levels</u> of high <u>intake</u> associated with alcoholism, such as Jews.\n",
      "<img href=\"http://i2.wp.com/www.casualoptimist.com/wp-content/uploads/2014/10/9781846145506.jpg?resize=620%2C954\">\n",
      "\n",
      "Pinker recommends his version with abstract nouns omitted.\n",
      "\n",
      "> The researchers found that in groups with little alcoholism such as Jews, people actually drink moderate amounts of alcohol, but few of them drink too much and become alcoholics.\n",
      "\n",
      "I want to discuss Pinker's replacement of \"low alcoholism level\" with \"little alcoholism\". Where does the \"low alcoholism level\" come from? It's not difficult to guess. The original measure was the proportion of alcoholism in certain populations. This is a continuous variable. The authors wanted to predict the amount of alcohol from alcoholism level. Instead of running a GLM regression, the researchers binned populations into groups according to alcoholism. Each group then describes (discrete) alcoholism level. I agree with Pinker that \"alcoholism level\" and indeed any case of discretized variable is a monstrosity and should be avoided. But the problem does not go away, if we just rewrite the sentence. Pinker's revision makes a different claim than the original text. What Pinker highlights is that the author's claim is of little interest since no one thinks of alcoholism as a discrete variable. At the same time, it is easy to see that the claim, that we are interested in, concerns the continuous variable. As such this claim can't be distilled with Anova. Something has to give. Psychologists give up their claims and their research questions. I say, they should abandon Anova."
     ]
    }
   ],
   "metadata": {}
  }
 ]
}