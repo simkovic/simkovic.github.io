{
 "metadata": {
  "name": ""
 },
 "nbformat": 3,
 "nbformat_minor": 0,
 "worksheets": [
  {
   "cells": [
    {
     "cell_type": "markdown",
     "metadata": {},
     "source": [
      "Johannes Keyser [asks](http://doing-bayesian-data-analysis.12272.x6.nabble.com/How-to-compare-different-conditions-between-patients-and-controls-td5000744.html) on the DBDA forum what is the best way to analyze his data. From what I understood his data have the following structure. \n",
      "\n",
      "A group of patients was measured four times. The first time is a no treatment baseline condition. The following three times were three different treatment conditions. In addition a control group was measured twice with no treatment being applied. We would like to compare the three treatments. What should we do? Can we utilize the control group anyhow?\n",
      "\n",
      "We write $y_{it}$ for measurement of patient $i$ at time $t \\in [0,1,2,3]$. Similar, the measurements of control subjects are given by $w_{it}$. The most straightforward thing to do is\n",
      "\n",
      "$$ y_{it} \\sim \\mathcal{N}(\\mu_t,\\sigma)$$\n",
      "$$ w_{it} \\sim \\mathcal{N}(\\mu_0,\\sigma)$$\n",
      "\n",
      "and we look at the posterior estimates of $\\mu_t - \\mu_0$ for $t \\in [1,2,3]$. In proposing this model I made a ton of assumptions. I assumed that measurements are normally distributed and that two groups are exchangable in terms of the measurment variability but also in terms of their performance when given no treatment. Furthermore I assumed that the variance does not vary across the repeated measurements. The model should be adjusted if these assumptions do not apply. For instance if subjects are not exchangable we should write \n",
      "\n",
      "$$ y_{it} \\sim \\mathcal{N}(\\mu_t,\\sigma^y)$$\n",
      "$$ w_{it} \\sim \\mathcal{N}(\\nu,\\sigma^w)$$\n",
      "\n",
      "In such a case we can drop the control group from the analysis since it doesn't provide any information about the treatment benefit. \n",
      "\n",
      "If there the measurements at consecutive points in time are correlated (because the measurement comes from the same subject) then we should model the differences directly.\n",
      "\n",
      "$$ y_{i1}-y_{i0} \\sim \\mathcal{N}(\\alpha_1,\\sigma)$$\n",
      "$$ w_{i1}-w_{i0} \\sim \\mathcal{N}(\\alpha_0,\\sigma)$$\n",
      "\n",
      "We then compare $\\alpha_1$ and $\\alpha_0$. The advantage here is that we don't have to assume that $\\mu_0$ and $\\nu$ are identical. Though we assume that patients would gain $\\alpha_0$ in performance if they were measured second time with no treatment. We can similarly estimate  \n",
      "\n",
      "$$ y_{i2}-y_{i0} \\sim \\mathcal{N}(\\alpha_2,\\sigma)$$\n",
      "$$ y_{i3}-y_{i0} \\sim \\mathcal{N}(\\alpha_3,\\sigma)$$\n",
      "\n",
      "However, here we have a further difficulty in the fact that there was an intermediate measurement at $t=1$ which may influence the performance at time $t=2$ or $t=3$."
     ]
    }
   ],
   "metadata": {}
  }
 ]
}